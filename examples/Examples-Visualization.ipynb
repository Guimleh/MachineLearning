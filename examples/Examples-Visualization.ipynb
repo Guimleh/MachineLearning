{
 "cells": [
  {
   "cell_type": "code",
   "execution_count": 1,
   "id": "eb959427",
   "metadata": {},
   "outputs": [],
   "source": [
    "import urllib.request\n",
    "import json\n",
    "import pandas as pd\n",
    "\n",
    "propertyid = \"Property:P856\"\n",
    "url = (\n",
    "    \"https://www.wikidata.org/w/api.php?action=query&prop=revisions&titles=\"\n",
    "    + propertyid\n",
    "    + \"&rvprop=timestamp|comment|ids&rvlimit=500&format=json\"\n",
    ")\n",
    "response = urllib.request.urlopen(url)\n",
    "responsedata = json.loads(response.read().decode(\"utf-8\"))"
   ]
  },
  {
   "cell_type": "code",
   "execution_count": 2,
   "id": "448ded27",
   "metadata": {},
   "outputs": [
    {
     "name": "stdout",
     "output_type": "stream",
     "text": [
      "dict_keys(['revid', 'parentid', 'timestamp', 'comment'])\n"
     ]
    }
   ],
   "source": [
    "array = []\n",
    "\n",
    "for data in responsedata[\"query\"][\"pages\"]:\n",
    "    for revision in responsedata[\"query\"][\"pages\"][data][\"revisions\"]:\n",
    "        print(revision.keys())\n",
    "        break"
   ]
  },
  {
   "cell_type": "code",
   "execution_count": 3,
   "id": "c3b5ad42-bc2f-488d-9c83-f576a437155b",
   "metadata": {},
   "outputs": [
    {
     "data": {
      "text/plain": [
       "dict_keys(['revid', 'parentid', 'timestamp', 'comment'])"
      ]
     },
     "execution_count": 3,
     "metadata": {},
     "output_type": "execute_result"
    }
   ],
   "source": [
    "result = list(responsedata[\"query\"][\"pages\"].values())[0]\n",
    "revisions = result[\"revisions\"]\n",
    "revision = result[\"revisions\"][0].keys()\n",
    "revision"
   ]
  },
  {
   "cell_type": "code",
   "execution_count": 4,
   "id": "04087b61",
   "metadata": {},
   "outputs": [],
   "source": [
    "array = []\n",
    "\n",
    "for revision in revisions:\n",
    "    array.append([revision[\"timestamp\"], revision[\"comment\"]])"
   ]
  },
  {
   "cell_type": "code",
   "execution_count": 5,
   "id": "d30e6fa3",
   "metadata": {},
   "outputs": [
    {
     "data": {
      "text/plain": [
       "[['2025-02-11T14:11:42Z',\n",
       "  '/* wbsetaliases-remove:1|en-gb */ official homepage']]"
      ]
     },
     "execution_count": 5,
     "metadata": {},
     "output_type": "execute_result"
    }
   ],
   "source": [
    "array[:1]"
   ]
  },
  {
   "cell_type": "code",
   "execution_count": 6,
   "id": "f4aafcfa",
   "metadata": {},
   "outputs": [
    {
     "data": {
      "text/html": [
       "<div>\n",
       "<style scoped>\n",
       "    .dataframe tbody tr th:only-of-type {\n",
       "        vertical-align: middle;\n",
       "    }\n",
       "\n",
       "    .dataframe tbody tr th {\n",
       "        vertical-align: top;\n",
       "    }\n",
       "\n",
       "    .dataframe thead th {\n",
       "        text-align: right;\n",
       "    }\n",
       "</style>\n",
       "<table border=\"1\" class=\"dataframe\">\n",
       "  <thead>\n",
       "    <tr style=\"text-align: right;\">\n",
       "      <th></th>\n",
       "      <th>timestamp</th>\n",
       "      <th>modification</th>\n",
       "    </tr>\n",
       "  </thead>\n",
       "  <tbody>\n",
       "    <tr>\n",
       "      <th>0</th>\n",
       "      <td>2025-02-11</td>\n",
       "      <td>/* wbsetaliases-remove:1|en-gb */ official hom...</td>\n",
       "    </tr>\n",
       "    <tr>\n",
       "      <th>1</th>\n",
       "      <td>2025-02-11</td>\n",
       "      <td>/* wbsetaliases-remove:9|en-ca */ website, hom...</td>\n",
       "    </tr>\n",
       "    <tr>\n",
       "      <th>2</th>\n",
       "      <td>2025-02-11</td>\n",
       "      <td>/* wbsetdescription-remove:1|en-gb */ URL of t...</td>\n",
       "    </tr>\n",
       "    <tr>\n",
       "      <th>3</th>\n",
       "      <td>2025-02-11</td>\n",
       "      <td>/* wbsetdescription-remove:1|en-ca */ URL of t...</td>\n",
       "    </tr>\n",
       "    <tr>\n",
       "      <th>4</th>\n",
       "      <td>2025-02-11</td>\n",
       "      <td>/* wbsetlabel-remove:1|en-ca */ official website</td>\n",
       "    </tr>\n",
       "    <tr>\n",
       "      <th>...</th>\n",
       "      <td>...</td>\n",
       "      <td>...</td>\n",
       "    </tr>\n",
       "    <tr>\n",
       "      <th>495</th>\n",
       "      <td>2020-12-02</td>\n",
       "      <td>/* wbeditentity-update-languages-short:0||fa */</td>\n",
       "    </tr>\n",
       "    <tr>\n",
       "      <th>496</th>\n",
       "      <td>2020-11-24</td>\n",
       "      <td>/* wbsetaliases-update:7|fr */ URL officielle,...</td>\n",
       "    </tr>\n",
       "    <tr>\n",
       "      <th>497</th>\n",
       "      <td>2020-11-22</td>\n",
       "      <td>/* undo:0||1311009051|마인드 */</td>\n",
       "    </tr>\n",
       "    <tr>\n",
       "      <th>498</th>\n",
       "      <td>2020-11-22</td>\n",
       "      <td>/* wbsetclaim-update:2||1|1 */ [[Property:P230...</td>\n",
       "    </tr>\n",
       "    <tr>\n",
       "      <th>499</th>\n",
       "      <td>2020-11-07</td>\n",
       "      <td>/* wbsetqualifier-add:1| */ [[Property:P2306]]...</td>\n",
       "    </tr>\n",
       "  </tbody>\n",
       "</table>\n",
       "<p>500 rows × 2 columns</p>\n",
       "</div>"
      ],
      "text/plain": [
       "     timestamp                                       modification\n",
       "0   2025-02-11  /* wbsetaliases-remove:1|en-gb */ official hom...\n",
       "1   2025-02-11  /* wbsetaliases-remove:9|en-ca */ website, hom...\n",
       "2   2025-02-11  /* wbsetdescription-remove:1|en-gb */ URL of t...\n",
       "3   2025-02-11  /* wbsetdescription-remove:1|en-ca */ URL of t...\n",
       "4   2025-02-11   /* wbsetlabel-remove:1|en-ca */ official website\n",
       "..         ...                                                ...\n",
       "495 2020-12-02    /* wbeditentity-update-languages-short:0||fa */\n",
       "496 2020-11-24  /* wbsetaliases-update:7|fr */ URL officielle,...\n",
       "497 2020-11-22                       /* undo:0||1311009051|마인드 */\n",
       "498 2020-11-22  /* wbsetclaim-update:2||1|1 */ [[Property:P230...\n",
       "499 2020-11-07  /* wbsetqualifier-add:1| */ [[Property:P2306]]...\n",
       "\n",
       "[500 rows x 2 columns]"
      ]
     },
     "execution_count": 6,
     "metadata": {},
     "output_type": "execute_result"
    }
   ],
   "source": [
    "dataframe = pd.DataFrame(array, columns=[\"timestamp\", \"modification\"])\n",
    "dataframe['timestamp'] = pd.to_datetime(dataframe['timestamp'], format='%Y-%m-%dT%H:%M:%SZ')\n",
    "dataframe = dataframe.astype(\n",
    "    dtype={\"modification\": \"<U1000\"}\n",
    ")\n",
    "\n",
    "dataframe[\"timestamp\"] = pd.to_datetime(\n",
    "    dataframe[\"timestamp\"],\n",
    "    format=\"%d/%m/%Y\",\n",
    "    unit=\"D\",\n",
    "    errors=\"raise\",\n",
    ").dt.normalize()\n",
    "dataframe"
   ]
  },
  {
   "cell_type": "code",
   "execution_count": 7,
   "id": "023886eb",
   "metadata": {},
   "outputs": [
    {
     "data": {
      "text/html": [
       "<div>\n",
       "<style scoped>\n",
       "    .dataframe tbody tr th:only-of-type {\n",
       "        vertical-align: middle;\n",
       "    }\n",
       "\n",
       "    .dataframe tbody tr th {\n",
       "        vertical-align: top;\n",
       "    }\n",
       "\n",
       "    .dataframe thead th {\n",
       "        text-align: right;\n",
       "    }\n",
       "</style>\n",
       "<table border=\"1\" class=\"dataframe\">\n",
       "  <thead>\n",
       "    <tr style=\"text-align: right;\">\n",
       "      <th></th>\n",
       "      <th>timestamp</th>\n",
       "      <th>modification</th>\n",
       "    </tr>\n",
       "  </thead>\n",
       "  <tbody>\n",
       "    <tr>\n",
       "      <th>0</th>\n",
       "      <td>2020-11-07</td>\n",
       "      <td>1</td>\n",
       "    </tr>\n",
       "    <tr>\n",
       "      <th>1</th>\n",
       "      <td>2020-11-22</td>\n",
       "      <td>2</td>\n",
       "    </tr>\n",
       "    <tr>\n",
       "      <th>2</th>\n",
       "      <td>2020-11-24</td>\n",
       "      <td>1</td>\n",
       "    </tr>\n",
       "    <tr>\n",
       "      <th>3</th>\n",
       "      <td>2020-12-02</td>\n",
       "      <td>1</td>\n",
       "    </tr>\n",
       "    <tr>\n",
       "      <th>4</th>\n",
       "      <td>2020-12-15</td>\n",
       "      <td>7</td>\n",
       "    </tr>\n",
       "    <tr>\n",
       "      <th>...</th>\n",
       "      <td>...</td>\n",
       "      <td>...</td>\n",
       "    </tr>\n",
       "    <tr>\n",
       "      <th>231</th>\n",
       "      <td>2024-12-24</td>\n",
       "      <td>7</td>\n",
       "    </tr>\n",
       "    <tr>\n",
       "      <th>232</th>\n",
       "      <td>2024-12-30</td>\n",
       "      <td>6</td>\n",
       "    </tr>\n",
       "    <tr>\n",
       "      <th>233</th>\n",
       "      <td>2025-01-02</td>\n",
       "      <td>1</td>\n",
       "    </tr>\n",
       "    <tr>\n",
       "      <th>234</th>\n",
       "      <td>2025-01-31</td>\n",
       "      <td>1</td>\n",
       "    </tr>\n",
       "    <tr>\n",
       "      <th>235</th>\n",
       "      <td>2025-02-11</td>\n",
       "      <td>6</td>\n",
       "    </tr>\n",
       "  </tbody>\n",
       "</table>\n",
       "<p>236 rows × 2 columns</p>\n",
       "</div>"
      ],
      "text/plain": [
       "     timestamp  modification\n",
       "0   2020-11-07             1\n",
       "1   2020-11-22             2\n",
       "2   2020-11-24             1\n",
       "3   2020-12-02             1\n",
       "4   2020-12-15             7\n",
       "..         ...           ...\n",
       "231 2024-12-24             7\n",
       "232 2024-12-30             6\n",
       "233 2025-01-02             1\n",
       "234 2025-01-31             1\n",
       "235 2025-02-11             6\n",
       "\n",
       "[236 rows x 2 columns]"
      ]
     },
     "execution_count": 7,
     "metadata": {},
     "output_type": "execute_result"
    }
   ],
   "source": [
    "group = dataframe.groupby(\"timestamp\").agg(\"count\").reset_index()\n",
    "group"
   ]
  },
  {
   "cell_type": "code",
   "execution_count": 8,
   "id": "bf0219c3",
   "metadata": {},
   "outputs": [
    {
     "data": {
      "text/html": [
       "<div>\n",
       "<style scoped>\n",
       "    .dataframe tbody tr th:only-of-type {\n",
       "        vertical-align: middle;\n",
       "    }\n",
       "\n",
       "    .dataframe tbody tr th {\n",
       "        vertical-align: top;\n",
       "    }\n",
       "\n",
       "    .dataframe thead th {\n",
       "        text-align: right;\n",
       "    }\n",
       "</style>\n",
       "<table border=\"1\" class=\"dataframe\">\n",
       "  <thead>\n",
       "    <tr style=\"text-align: right;\">\n",
       "      <th></th>\n",
       "      <th>timestamp</th>\n",
       "      <th>modification</th>\n",
       "    </tr>\n",
       "  </thead>\n",
       "  <tbody>\n",
       "    <tr>\n",
       "      <th>count</th>\n",
       "      <td>236</td>\n",
       "      <td>236.000000</td>\n",
       "    </tr>\n",
       "    <tr>\n",
       "      <th>mean</th>\n",
       "      <td>2022-12-28 08:38:38.644067840</td>\n",
       "      <td>2.118644</td>\n",
       "    </tr>\n",
       "    <tr>\n",
       "      <th>min</th>\n",
       "      <td>2020-11-07 00:00:00</td>\n",
       "      <td>1.000000</td>\n",
       "    </tr>\n",
       "    <tr>\n",
       "      <th>25%</th>\n",
       "      <td>2021-12-28 12:00:00</td>\n",
       "      <td>1.000000</td>\n",
       "    </tr>\n",
       "    <tr>\n",
       "      <th>50%</th>\n",
       "      <td>2022-11-22 12:00:00</td>\n",
       "      <td>1.000000</td>\n",
       "    </tr>\n",
       "    <tr>\n",
       "      <th>75%</th>\n",
       "      <td>2024-01-20 00:00:00</td>\n",
       "      <td>2.000000</td>\n",
       "    </tr>\n",
       "    <tr>\n",
       "      <th>max</th>\n",
       "      <td>2025-02-11 00:00:00</td>\n",
       "      <td>64.000000</td>\n",
       "    </tr>\n",
       "    <tr>\n",
       "      <th>std</th>\n",
       "      <td>NaN</td>\n",
       "      <td>4.496182</td>\n",
       "    </tr>\n",
       "  </tbody>\n",
       "</table>\n",
       "</div>"
      ],
      "text/plain": [
       "                           timestamp  modification\n",
       "count                            236    236.000000\n",
       "mean   2022-12-28 08:38:38.644067840      2.118644\n",
       "min              2020-11-07 00:00:00      1.000000\n",
       "25%              2021-12-28 12:00:00      1.000000\n",
       "50%              2022-11-22 12:00:00      1.000000\n",
       "75%              2024-01-20 00:00:00      2.000000\n",
       "max              2025-02-11 00:00:00     64.000000\n",
       "std                              NaN      4.496182"
      ]
     },
     "execution_count": 8,
     "metadata": {},
     "output_type": "execute_result"
    }
   ],
   "source": [
    "group.describe()"
   ]
  },
  {
   "cell_type": "code",
   "execution_count": null,
   "id": "2ac71c5d",
   "metadata": {},
   "outputs": [],
   "source": [
    "group.dtypes"
   ]
  },
  {
   "cell_type": "code",
   "execution_count": null,
   "id": "1a3b9b00",
   "metadata": {},
   "outputs": [],
   "source": [
    "group.modification.max()"
   ]
  },
  {
   "cell_type": "code",
   "execution_count": null,
   "id": "c3aa6857",
   "metadata": {},
   "outputs": [],
   "source": [
    "group.modification.min()"
   ]
  },
  {
   "cell_type": "code",
   "execution_count": null,
   "id": "54ea33ad-ec86-4509-a055-832d184e0aed",
   "metadata": {},
   "outputs": [],
   "source": [
    "import calplot\n",
    "\n",
    "days = group[\"timestamp\"]\n",
    "\n",
    "events = pd.Series(list(group[\"modification\"]), index=days)\n",
    "calplot.calplot(\n",
    "    events,\n",
    "    cmap=\"YlGn\",\n",
    "    yearlabel_kws={\"color\": \"black\"},\n",
    "    linewidth=0,\n",
    "    suptitle=\"Number of modifications per day (last 500)\",\n",
    ")"
   ]
  },
  {
   "cell_type": "code",
   "execution_count": null,
   "id": "3dd673a8",
   "metadata": {},
   "outputs": [],
   "source": [
    "import plotly.express as px\n",
    "\n",
    "fig = px.histogram(\n",
    "    group,\n",
    "    x=\"timestamp\",\n",
    "    y=\"modification\",\n",
    "    nbins=20,\n",
    "    labels={\"x\": \"month\", \"y\": \"count\"},\n",
    ")\n",
    "fig.update_layout(bargap=0.2)\n",
    "fig.show()"
   ]
  },
  {
   "cell_type": "code",
   "execution_count": null,
   "id": "18cd109a",
   "metadata": {},
   "outputs": [],
   "source": [
    "import plotly.express as px\n",
    "\n",
    "fig = px.scatter(\n",
    "    group, x=\"timestamp\", y=\"modification\", labels={\"x\": \"month\", \"y\": \"count\"}\n",
    ")\n",
    "fig.update_layout(bargap=0.2)\n",
    "fig.show()"
   ]
  },
  {
   "cell_type": "code",
   "execution_count": null,
   "id": "ea2b12df",
   "metadata": {},
   "outputs": [],
   "source": [
    "import plotly.express as px\n",
    "\n",
    "fig = px.histogram(group, x=\"modification\", histnorm=\"probability density\", nbins=20)\n",
    "fig.update_layout(bargap=0.2)\n",
    "fig.show()"
   ]
  },
  {
   "cell_type": "code",
   "execution_count": null,
   "id": "b7b23cea",
   "metadata": {},
   "outputs": [],
   "source": [
    "import sys\n",
    "from SPARQLWrapper import SPARQLWrapper, JSON\n",
    "\n",
    "endpoint_url = \"https://query.wikidata.org/sparql\"\n",
    "\n",
    "query = \"\"\"SELECT ?heritagesite ?label ?coordinates {\n",
    "  ?heritagesite wdt:P1435 wd:Q9259;\n",
    "        wdt:P17 wd:Q142;\n",
    "        rdfs:label ?label;\n",
    "        wdt:P625 ?coordinates.\n",
    "        FILTER (lang(?label)=\"en\")\n",
    "}\n",
    "LIMIT 100\n",
    "\"\"\"\n",
    "\n",
    "\n",
    "def get_results(endpoint_url, query):\n",
    "    user_agent = \"WDQS-example Python/%s.%s\" % (\n",
    "        sys.version_info[0],\n",
    "        sys.version_info[1],\n",
    "    )\n",
    "    sparql = SPARQLWrapper(endpoint_url, agent=user_agent)\n",
    "    sparql.setQuery(query)\n",
    "    sparql.setReturnFormat(JSON)\n",
    "    return sparql.query().convert()\n",
    "\n",
    "\n",
    "results = get_results(endpoint_url, query)\n",
    "\n",
    "array = []\n",
    "for result in results[\"results\"][\"bindings\"]:\n",
    "    array.append(\n",
    "        [\n",
    "            result[\"heritagesite\"][\"value\"],\n",
    "            result[\"label\"][\"value\"],\n",
    "            result[\"coordinates\"][\"value\"],\n",
    "        ]\n",
    "    )"
   ]
  },
  {
   "cell_type": "code",
   "execution_count": null,
   "id": "8748b229-f144-47dd-8b90-8cc2057878b7",
   "metadata": {},
   "outputs": [],
   "source": [
    "from shapely import wkt\n",
    "import geopandas as gp\n",
    "\n",
    "dataframe = pd.DataFrame(array, columns=[\"ID\", \"label\", \"coordinates\"])\n",
    "dataframe[\"coordinates\"] = dataframe[\"coordinates\"].apply(wkt.loads)\n",
    "\n",
    "geodataframe = gp.GeoDataFrame(dataframe, geometry=\"coordinates\")"
   ]
  },
  {
   "cell_type": "code",
   "execution_count": null,
   "id": "10bcb32c-72d7-4bcb-a605-4f3067db0155",
   "metadata": {},
   "outputs": [],
   "source": [
    "array[:1]"
   ]
  },
  {
   "cell_type": "code",
   "execution_count": null,
   "id": "754c0311-aa99-47d3-a8c7-e063d4f7f268",
   "metadata": {},
   "outputs": [],
   "source": [
    "geodataframe.dtypes"
   ]
  },
  {
   "cell_type": "code",
   "execution_count": null,
   "id": "aa4d480f-5a43-4a35-a4d9-e9ac73ab0199",
   "metadata": {},
   "outputs": [],
   "source": [
    "import folium\n",
    "\n",
    "map = folium.Map(location=[45.1093, 2.6753], zoom_start=6)\n",
    "geo_df_list = [[point.xy[1][0], point.xy[0][0]] for point in geodataframe.geometry]"
   ]
  },
  {
   "cell_type": "code",
   "execution_count": null,
   "id": "968919b2-f854-4c30-9ac5-e50fe8c5a116",
   "metadata": {},
   "outputs": [],
   "source": [
    "i = 0\n",
    "for coordinates in geo_df_list:\n",
    "    map.add_child(\n",
    "        folium.Marker(\n",
    "            location=coordinates,\n",
    "            icon=folium.Icon(color=\"green\"),\n",
    "            popup=\"Wikidata: <a target='_blank' href='\"\n",
    "            + str(geodataframe.ID[i])\n",
    "            + \"'>\"\n",
    "            + str(geodataframe.label[i]),\n",
    "        )\n",
    "    )\n",
    "    i = i + 1\n",
    "\n",
    "map"
   ]
  },
  {
   "cell_type": "code",
   "execution_count": null,
   "id": "44de8dde-35bd-41da-8b9a-208b4e99d303",
   "metadata": {},
   "outputs": [],
   "source": []
  }
 ],
 "metadata": {
  "kernelspec": {
   "display_name": "Python 3 (ipykernel)",
   "language": "python",
   "name": "python3"
  },
  "language_info": {
   "codemirror_mode": {
    "name": "ipython",
    "version": 3
   },
   "file_extension": ".py",
   "mimetype": "text/x-python",
   "name": "python",
   "nbconvert_exporter": "python",
   "pygments_lexer": "ipython3",
   "version": "3.12.3"
  },
  "toc-autonumbering": true,
  "toc-showmarkdowntxt": true
 },
 "nbformat": 4,
 "nbformat_minor": 5
}
